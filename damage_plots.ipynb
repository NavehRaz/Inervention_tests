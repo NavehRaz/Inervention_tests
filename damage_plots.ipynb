{
 "cells": [
  {
   "cell_type": "code",
   "execution_count": 1,
   "id": "3d06d9db",
   "metadata": {},
   "outputs": [],
   "source": [
    "%load_ext autoreload\n",
    "%autoreload 2\n",
    "import intervention_SR as isr\n",
    "import numpy as np\n",
    "import matplotlib.pyplot as plt\n",
    "from SRtools import SR_hetro as srh\n",
    "from SRtools import presets"
   ]
  },
  {
   "cell_type": "code",
   "execution_count": null,
   "id": "69271b75",
   "metadata": {},
   "outputs": [],
   "source": [
    "theta = presets.getTheta('Yeast')\n",
    "config = presets.get_config_params('Yeast')\n",
    "sim_balistic = isr.getInterventionSR(theta, parallel=True, nsteps=5000, time_step_multiplier=1, npeople=500, t_end=config['t_end'],save_trajectory=True, traj_points=500)"
   ]
  }
 ],
 "metadata": {
  "kernelspec": {
   "display_name": "SRvenv",
   "language": "python",
   "name": "python3"
  },
  "language_info": {
   "codemirror_mode": {
    "name": "ipython",
    "version": 3
   },
   "file_extension": ".py",
   "mimetype": "text/x-python",
   "name": "python",
   "nbconvert_exporter": "python",
   "pygments_lexer": "ipython3",
   "version": "3.9.6"
  }
 },
 "nbformat": 4,
 "nbformat_minor": 5
}
