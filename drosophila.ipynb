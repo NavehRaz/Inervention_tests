{
 "cells": [
  {
   "cell_type": "code",
   "execution_count": 2,
   "id": "6a50377f",
   "metadata": {},
   "outputs": [],
   "source": [
    "%load_ext autoreload\n",
    "%autoreload 2\n",
    "import intervention_SR as isr\n",
    "import numpy as np\n",
    "import matplotlib.pyplot as plt\n",
    "from SRtools import SR_hetro as srh\n",
    "from SRtools import presets"
   ]
  },
  {
   "cell_type": "code",
   "execution_count": 3,
   "id": "c651f7d3",
   "metadata": {},
   "outputs": [],
   "source": [
    "drosophila_presets = ['drosophila_853', 'drosophila_707', 'drosophila_441', 'drosophila_217']"
   ]
  },
  {
   "cell_type": "code",
   "execution_count": 10,
   "id": "ca466061",
   "metadata": {},
   "outputs": [],
   "source": [
    "sims_drosophila ={}\n",
    "beta_etas ={}\n",
    "percents = [0, 10,30, 50,70, 90,100,110,120,130]\n",
    "thetas = {}\n",
    "for preset in drosophila_presets:\n",
    "    config = presets.get_config_params(preset, config_params=['nsteps', 'time_step_multiplier', 'npeople', 't_end'])\n",
    "    # config['time_step_multiplier'] = int(np.ceil(config['time_step_multiplier']/5))\n",
    "    theta = presets.getTheta(preset)\n",
    "    thetas[preset] = theta\n",
    "    beta_eta =theta[1]/theta[0]\n",
    "    sim = isr.getInterventionSR(theta, parallel=True, nsteps=config['nsteps'], time_step_multiplier=config['time_step_multiplier'], npeople=config['npeople'], t_end=config['t_end'], intervention_time=0, intervention_duration=0, intervention_type='Transient', intervention_effect=0)\n",
    "    ML = sim.getMedianLifetime()\n",
    "    beta_etas[preset] = beta_eta/ML\n",
    "    sim_int = isr.getInterventionSR(\n",
    "                theta,\n",
    "                parallel=True,\n",
    "                nsteps=config['nsteps'],\n",
    "                time_step_multiplier=config['time_step_multiplier'],\n",
    "                npeople=config['npeople'],\n",
    "                t_end=config['t_end'],\n",
    "                intervention_time=0,\n",
    "                intervention_duration=0,\n",
    "                intervention_type='Transient',\n",
    "                intervention_effect=0 \n",
    "    )\n",
    "    # intervention_times = [p/100 * ML for p in percents]\n",
    "    # for t_int in intervention_times:\n",
    "    #     # Run the simulation for mice with this intervention time\n",
    "    #     # (Assume you have a function like run_simulation or similar, adjust as needed)\n",
    "    #     sim_int = isr.getInterventionSR(\n",
    "    #             theta,\n",
    "    #             parallel=True,\n",
    "    #             nsteps=config['nsteps'],\n",
    "    #             time_step_multiplier=config['time_step_multiplier'],\n",
    "    #             npeople=config['npeople'],\n",
    "    #             t_end=config['t_end'],\n",
    "    #             intervention_time=t_int,\n",
    "    #             intervention_duration=0,\n",
    "    #             intervention_type='Transient',\n",
    "    #             intervention_effect=0.9 \n",
    "    #     )\n",
    "\n",
    "    sims_drosophila[preset] = sim_int"
   ]
  },
  {
   "cell_type": "code",
   "execution_count": 11,
   "id": "0195fb72",
   "metadata": {},
   "outputs": [
    {
     "name": "stdout",
     "output_type": "stream",
     "text": [
      "drosophila_853: 1.0384719273371734\n",
      "45.22904580916183\n",
      "[  1.33246526  62.4739662  748.23978499 134.054     ]\n",
      "drosophila_707: 0.3655435581188997\n",
      "22.644528905781158\n",
      "[  1.12821884   9.29765149 773.84088916 267.873     ]\n",
      "drosophila_441: 0.6359164805825243\n",
      "49.36987397479496\n",
      "[2.85778597e+00 8.98659377e+01 6.13371549e+03 9.23645000e+02]\n",
      "drosophila_217: 0.03204648614609572\n",
      "31.626325265053012\n",
      "[  0.84262745   0.85779474 533.17843802 493.355     ]\n"
     ]
    }
   ],
   "source": [
    "for key, value in beta_etas.items():\n",
    "    print(f\"{key}: {value}\")\n",
    "    print(sims_drosophila[key].getMedianLifetime())\n",
    "    print(thetas[key])\n"
   ]
  }
 ],
 "metadata": {
  "kernelspec": {
   "display_name": "SRvenv",
   "language": "python",
   "name": "python3"
  },
  "language_info": {
   "codemirror_mode": {
    "name": "ipython",
    "version": 3
   },
   "file_extension": ".py",
   "mimetype": "text/x-python",
   "name": "python",
   "nbconvert_exporter": "python",
   "pygments_lexer": "ipython3",
   "version": "3.9.6"
  }
 },
 "nbformat": 4,
 "nbformat_minor": 5
}
